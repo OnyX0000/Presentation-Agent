{
 "cells": [
  {
   "cell_type": "markdown",
   "metadata": {},
   "source": [
    "## 1. PDF TO TEXT"
   ]
  },
  {
   "cell_type": "markdown",
   "metadata": {},
   "source": [
    "### 모듈 불러오기"
   ]
  },
  {
   "cell_type": "code",
   "execution_count": 17,
   "metadata": {},
   "outputs": [],
   "source": [
    "from langchain_community.document_loaders import PyMuPDFLoader\n",
    "from langchain_text_splitters import RecursiveCharacterTextSplitter\n",
    "import re"
   ]
  },
  {
   "cell_type": "code",
   "execution_count": null,
   "metadata": {},
   "outputs": [
    {
     "name": "stderr",
     "output_type": "stream",
     "text": [
      "<>:7: SyntaxWarning: invalid escape sequence '\\s'\n",
      "<>:8: SyntaxWarning: invalid escape sequence '\\s'\n",
      "<>:7: SyntaxWarning: invalid escape sequence '\\s'\n",
      "<>:8: SyntaxWarning: invalid escape sequence '\\s'\n",
      "C:\\Users\\user\\AppData\\Local\\Temp\\ipykernel_10048\\3510544752.py:7: SyntaxWarning: invalid escape sequence '\\s'\n",
      "  text = re.sub(\"[^가-힣a-zA-Z0-9\\s]\",\"\",doc.page_content)\n",
      "C:\\Users\\user\\AppData\\Local\\Temp\\ipykernel_10048\\3510544752.py:8: SyntaxWarning: invalid escape sequence '\\s'\n",
      "  text = re.sub(\"\\s+\", \" \", text).strip()\n"
     ]
    }
   ],
   "source": [
    "def pdf2text(pdf_path):\n",
    "    '''\n",
    "    pdf_path에 있는 pdf파일을 이미지를 제외한 텍스트를 추출하여 리스트에 담는다\n",
    "    리스트에 담긴 텍스트를 한글과, 영어, 숫자, 공백1칸을 제외하고 모두 파싱 후 반환\n",
    "    '''\n",
    "    loader = PyMuPDFLoader(pdf_path)\n",
    "    docs = loader.load()\n",
    "\n",
    "    ppts = []\n",
    "    for doc in docs:\n",
    "        text = re.sub(\"[^가-힣a-zA-Z0-9\\s]\",\"\",doc.page_content)\n",
    "        text = re.sub(\"\\s+\", \" \", text).strip()\n",
    "        ppts.append(text)\n",
    "        # print(f\"{text}가 append 되었슴당\")\n",
    "    return ppts"
   ]
  },
  {
   "cell_type": "code",
   "execution_count": 12,
   "metadata": {},
   "outputs": [
    {
     "data": {
      "text/plain": [
       "['딥러닝 기반 아동 미술 심리 진단 김지민 박형빈 정재식 DeepPrint Team DP Wanted PotenUp 3rd Project 20250305',\n",
       " '오늘의 발표 내용은 01 프로젝트 개요 02 Project Flow 03 서비스 구현',\n",
       " 'HTP 검사란 주제 소개 House집 Tree나무 Person사람의 세 가지 그림을 그리게 하여 개인의 성격 정서 상 태 대인 관계 등을 평가하는 투사적 심리 검사 특히 아동 및 청소년의 심리 상태를 파악하거나 성인의 무의식적 감정과 스트레스를 이해하는 데 유용하게 사용 01 프로젝트 개요',\n",
       " 'HTP 검사의 한계 주제 선정 배경 주관적 해석의 가능성 표준화 부족 문화적 차이 피검사자의 의도적 왜곡 기술적 한계 01 프로젝트 개요',\n",
       " 'Project Work Flow 학습 데이터 수집 및 정제 1 2 3 모델 학습 및 평가 결과 해석 AI Hub AI 기반 아동 미술심리 진단을 위 한 그림 데이터 구축 Ultralytics YOLO yolo11n yolo11s Detection 모델 활용 02 Project Flow 해석 가능한 요소 그려진 그림 탐지된 개체 그림 의 상대적 크기 그림의 위치 등',\n",
       " 'AI Hub 데이터 학습 데이터 수집 Image AI 기반 아동 미술심리 진단을 위한 그림 데이터 구축 다양한 연령대713와 성별의 아동 7000명으로부터 수집한 4개 HTP 분류집 나무 여자사람 남자사람 그림 심리 해석이 포함된 의료 데이터가 아닌 객체 인식을 위한 그림 데이터 각 HTP 분류 별 Train 11200개 Validation 1400개 데 이터를 포함하고 있고 Test 셋은 정책 상 다운로드 불가능 02 Project Flow',\n",
       " '1 House 집 2 Tree 나무 3 Person 남자사람 여자사람 총 15 가지 집전체 지붕 집벽 문 창문 굴뚝 연기 울타리 길 연못 산 나무 꽃 잔디 태양 총 14 가지 나무전체 기둥 수관 가지 뿌 리 나뭇잎 꽃 열매 그네 새 다람쥐 구름 달 별 총 18 가지 사람전체 머리 얼굴 눈 코 입 귀 머리카락 목 상체 팔 손 다리 발 단추 주머니 운동 화 남자구두여자구두 02 Project Flow 학습 데이터 수집 Label',\n",
       " '학습 데이터 정제 JSON Label 원본 JSON YOLO Format meta 데이터 정보 code age sex annotations bbox x y w h shapedescription propobjimg propobjcls 02 Project Flow classindex xc x w2 imagewidth yc y h2 imageheight width w imagewidth height h imageheight',\n",
       " 'HTP 항목별 모델 구축 YOLO11n 학습 mAP mean Average Precision 02 Project Flow 모델 학습 및 평가',\n",
       " '평가 지표 IoU가 05 이상일 때의 평균 정밀도Average Precision AP를 계산한 값이다 즉 검출한 바운딩 박스가 실제 객체와 23 이상 겹치면 정답으로 간주하고 계산한다 객체 검출 성능을 대략적으로 평가할 때 많이 사용된다 IoU 임계값을 050에서 095까지 005 간격050 055 095 으로 변화시키면서 각각의 AP를 구하고 그 평균을 낸 값이다 즉 mAP50B mAP55B mAP95B 의 평균이 된다 높은 IoU 임계값예 090 095에서는 더 정확한 바운딩 박스를 요구하므 로 모델이 실제로 얼마나 정밀하게 검출하는지를 더 엄격하게 평가하는 지 표이다 mAP50 mean Average Precision mAP5095 mean Average Precision 02 Project Flow IoU Intersection over Union 실제와 탐지 영역의 교집합 합집합',\n",
       " '성능 개선 THEMA imgsz 640 epochs 50 mAP50B mAP5095B Female 0975 0808 Male 0974 0811 House 0975 0884 Tree 0973 0844 THEMA imgsz 1280 epochs 30 mAP50B mAP5095B Female 0991 0016 0864 0056 Male 0991 0017 0862 0051 House 0988 0013 0925 0041 Tree 0983 0010 0874 0030 02 Project Flow imgsz 640 1280으로 증가시켜 성능을 향상시킴 epochs를 50 30으로 낮추어 학습속도를 향상시킴',\n",
       " '성능 개선 02 Project Flow',\n",
       " '특징 추출 및 해석 결과 해석 어떤 개체클래스가 그려졌는지 몇 개나 그려졌는지 전체 이미지 크기 대비 어느정도인지 해당 개체가 오브젝트에서 어느정도 크기인지 위 결과들을 해석하는 레퍼런스 탐색 및 구현 02 Project Flow',\n",
       " '결과 해석 예시 House 집 Male 남자사람 집전체에 대한 평가 그림에서 집전체 의 위치가 하단에 치우쳐져 있다 이는 우 울 자존감 문제 정서불안 열등감을 표현한 것으로 볼 수 있 다 연기에 대한 평가 그림에서 Smoke 의 존재 여부가 TRUE 이는 우울 자존감 문제을 표현한 것으로 볼 수 있다 길에 대한 평가 그림에서 Fence 의 존재 여부가 TRUE 이는 사회불안 Avoidance 자존감 문제 정서불안 열등감을 표현한 것으 로 볼 수 있다 사람전체에 대한 평가 그림에서 사람전체 의 위치가 하단에 치우쳐져 있다 이는 사 회 불안 우울 자존감 문제 정서불안 열등감을 표현한 것으로 볼 수 있다 상체에 대한 평가 현재 버전에서는 이 항목에 대한 평가 정보가 없습니다 단추에 대한 평가 그림에서 Button 의 크기가 지나치게 크다 이는 애정결핍 퇴행을 표현한 것으로 볼 수 있다 02 Project Flow',\n",
       " '기대 효과 객관적이고 일관된 분석 가능 자동화된 이미지 해석을 통한 시간 단축 데이터 기반 해석 가능 전문가와 보완적인 역할 기대 03 서비스 구현',\n",
       " 'YOLO 모델 HTP 검사 결과를 채점 기준별 점수화 Gemini API 활용 과 RAG 적용 03 서비스 구현 Gemini API 점수화된 데이터를 자연스럽고 이해하기 쉬운 문장으로 변환 RAG 적용 더 신뢰도 높은 심리 평가 문장 생성',\n",
       " '이미지 업로드 및 해석 화면 03 서비스 구현 페이지 진입 시 초기 화면 테마 선택 이미지 업로드',\n",
       " '이미지 업로드 및 해석 화면 03 서비스 구현 탐지 모드 설정 선택 보기 탐색 객체 선택',\n",
       " '이미지 업로드 및 해석 화면 03 서비스 구현 모두 보기 모드',\n",
       " '이미지 업로드 및 해석 화면 03 서비스 구현 선택 모드',\n",
       " '이미지 업로드 및 해석 화면 03 서비스 구현 전체 요약 보기',\n",
       " 'Q A',\n",
       " '4월에 다시 만나요 다음 발표는 언제였지']"
      ]
     },
     "execution_count": 12,
     "metadata": {},
     "output_type": "execute_result"
    }
   ],
   "source": [
    "pdf_path = \"C:/wanted/Lang/Presentation-Agent/data/pdf/DeePrint.pdf\"\n",
    "texts = pdf2text(pdf_path)\n",
    "texts"
   ]
  },
  {
   "cell_type": "code",
   "execution_count": 15,
   "metadata": {},
   "outputs": [
    {
     "name": "stdout",
     "output_type": "stream",
     "text": [
      "['딥러닝 기반 아동 미술 심리 진단 김지민 박형빈 정재식 DeepPrint Team DP Wanted PotenUp 3rd Project 20250305', '오늘의 발표 내용은 01 프로젝트 개요 02 Project Flow 03 서비스 구현']\n",
      "['HTP 검사란 주제 소개 House집 Tree나무 Person사람의 세 가지 그림을 그리게 하여 개인의 성격 정서 상 태 대인 관계 등을 평가하는 투사적 심리 검사 특히 아동 및 청소년의 심리 상태를 파악하거나 성인의 무의식적 감정과 스트레스를 이해하는 데 유용하게 사용 01 프로젝트 개요', 'HTP 검사의 한계 주제 선정 배경 주관적 해석의 가능성 표준화 부족 문화적 차이 피검사자의 의도적 왜곡 기술적 한계 01 프로젝트 개요', 'Project Work Flow 학습 데이터 수집 및 정제 1 2 3 모델 학습 및 평가 결과 해석 AI Hub AI 기반 아동 미술심리 진단을 위 한 그림 데이터 구축 Ultralytics YOLO yolo11n yolo11s Detection 모델 활용 02 Project Flow 해석 가능한 요소 그려진 그림 탐지된 개체 그림 의 상대적 크기 그림의 위치 등', 'AI Hub 데이터 학습 데이터 수집 Image AI 기반 아동 미술심리 진단을 위한 그림 데이터 구축 다양한 연령대713와 성별의 아동 7000명으로부터 수집한 4개 HTP 분류집 나무 여자사람 남자사람 그림 심리 해석이 포함된 의료 데이터가 아닌 객체 인식을 위한 그림 데이터 각 HTP 분류 별 Train 11200개 Validation 1400개 데 이터를 포함하고 있고 Test 셋은 정책 상 다운로드 불가능 02 Project Flow', '1 House 집 2 Tree 나무 3 Person 남자사람 여자사람 총 15 가지 집전체 지붕 집벽 문 창문 굴뚝 연기 울타리 길 연못 산 나무 꽃 잔디 태양 총 14 가지 나무전체 기둥 수관 가지 뿌 리 나뭇잎 꽃 열매 그네 새 다람쥐 구름 달 별 총 18 가지 사람전체 머리 얼굴 눈 코 입 귀 머리카락 목 상체 팔 손 다리 발 단추 주머니 운동 화 남자구두여자구두 02 Project Flow 학습 데이터 수집 Label', '학습 데이터 정제 JSON Label 원본 JSON YOLO Format meta 데이터 정보 code age sex annotations bbox x y w h shapedescription propobjimg propobjcls 02 Project Flow classindex xc x w2 imagewidth yc y h2 imageheight width w imagewidth height h imageheight', 'HTP 항목별 모델 구축 YOLO11n 학습 mAP mean Average Precision 02 Project Flow 모델 학습 및 평가', '평가 지표 IoU가 05 이상일 때의 평균 정밀도Average Precision AP를 계산한 값이다 즉 검출한 바운딩 박스가 실제 객체와 23 이상 겹치면 정답으로 간주하고 계산한다 객체 검출 성능을 대략적으로 평가할 때 많이 사용된다 IoU 임계값을 050에서 095까지 005 간격050 055 095 으로 변화시키면서 각각의 AP를 구하고 그 평균을 낸 값이다 즉 mAP50B mAP55B mAP95B 의 평균이 된다 높은 IoU 임계값예 090 095에서는 더 정확한 바운딩 박스를 요구하므 로 모델이 실제로 얼마나 정밀하게 검출하는지를 더 엄격하게 평가하는 지 표이다 mAP50 mean Average Precision mAP5095 mean Average Precision 02 Project Flow IoU Intersection over Union 실제와 탐지 영역의 교집합 합집합', '성능 개선 THEMA imgsz 640 epochs 50 mAP50B mAP5095B Female 0975 0808 Male 0974 0811 House 0975 0884 Tree 0973 0844 THEMA imgsz 1280 epochs 30 mAP50B mAP5095B Female 0991 0016 0864 0056 Male 0991 0017 0862 0051 House 0988 0013 0925 0041 Tree 0983 0010 0874 0030 02 Project Flow imgsz 640 1280으로 증가시켜 성능을 향상시킴 epochs를 50 30으로 낮추어 학습속도를 향상시킴', '성능 개선 02 Project Flow']\n",
      "['특징 추출 및 해석 결과 해석 어떤 개체클래스가 그려졌는지 몇 개나 그려졌는지 전체 이미지 크기 대비 어느정도인지 해당 개체가 오브젝트에서 어느정도 크기인지 위 결과들을 해석하는 레퍼런스 탐색 및 구현 02 Project Flow', '결과 해석 예시 House 집 Male 남자사람 집전체에 대한 평가 그림에서 집전체 의 위치가 하단에 치우쳐져 있다 이는 우 울 자존감 문제 정서불안 열등감을 표현한 것으로 볼 수 있 다 연기에 대한 평가 그림에서 Smoke 의 존재 여부가 TRUE 이는 우울 자존감 문제을 표현한 것으로 볼 수 있다 길에 대한 평가 그림에서 Fence 의 존재 여부가 TRUE 이는 사회불안 Avoidance 자존감 문제 정서불안 열등감을 표현한 것으 로 볼 수 있다 사람전체에 대한 평가 그림에서 사람전체 의 위치가 하단에 치우쳐져 있다 이는 사 회 불안 우울 자존감 문제 정서불안 열등감을 표현한 것으로 볼 수 있다 상체에 대한 평가 현재 버전에서는 이 항목에 대한 평가 정보가 없습니다 단추에 대한 평가 그림에서 Button 의 크기가 지나치게 크다 이는 애정결핍 퇴행을 표현한 것으로 볼 수 있다 02 Project Flow', '기대 효과 객관적이고 일관된 분석 가능 자동화된 이미지 해석을 통한 시간 단축 데이터 기반 해석 가능 전문가와 보완적인 역할 기대 03 서비스 구현', 'YOLO 모델 HTP 검사 결과를 채점 기준별 점수화 Gemini API 활용 과 RAG 적용 03 서비스 구현 Gemini API 점수화된 데이터를 자연스럽고 이해하기 쉬운 문장으로 변환 RAG 적용 더 신뢰도 높은 심리 평가 문장 생성']\n"
     ]
    }
   ],
   "source": [
    "# 우선은 서론 본론 결론을 임의로 나누겠습니다\n",
    "head = texts[:2]\n",
    "body = texts[2:12]\n",
    "tail = texts[12:16]\n",
    "print(head)\n",
    "print(body)\n",
    "print(tail)"
   ]
  },
  {
   "cell_type": "code",
   "execution_count": 25,
   "metadata": {},
   "outputs": [
    {
     "name": "stdout",
     "output_type": "stream",
     "text": [
      "[Document(metadata={}, page_content='HTP 검사란 주제 소개 House집 Tree나무 Person사람의 세 가지 그림을 그리게'), Document(metadata={}, page_content='그림을 그리게 하여 개인의 성격 정서 상 태 대인 관계 등을 평가하는 투사적 심리 검사'), Document(metadata={}, page_content='투사적 심리 검사 특히 아동 및 청소년의 심리 상태를 파악하거나 성인의 무의식적 감정과'), Document(metadata={}, page_content='무의식적 감정과 스트레스를 이해하는 데 유용하게 사용 01 프로젝트 개요')]\n",
      "['HTP 검사란 주제 소개 House집 Tree나무 Person사람의 세 가지 그림을 그리게', '그림을 그리게 하여 개인의 성격 정서 상 태 대인 관계 등을 평가하는 투사적 심리 검사', '투사적 심리 검사 특히 아동 및 청소년의 심리 상태를 파악하거나 성인의 무의식적 감정과', '무의식적 감정과 스트레스를 이해하는 데 유용하게 사용 01 프로젝트 개요']\n"
     ]
    }
   ],
   "source": [
    "text_splitter = RecursiveCharacterTextSplitter(\n",
    "    # 텍스트를 분할할 때 사용할 구분자를 지정합니다. 기본값은 \"\\n\\n\"입니다.\n",
    "    # separator=\". \",\n",
    "    # 분할된 텍스트 청크의 최대 크기를 지정합니다.\n",
    "    chunk_size=50,\n",
    "    # 분할된 텍스트 청크 간의 중복되는 문자 수를 지정합니다.\n",
    "    chunk_overlap=10,\n",
    "    # 텍스트의 길이를 계산하는 함수를 지정합니다.\n",
    "    length_function=len,\n",
    "    # 구분자가 정규식인지 여부를 지정합니다.\n",
    "    # is_separator_regex=False,\n",
    "    separators=['\\n\\n','\\n','.',' ']\n",
    ")\n",
    "# text_splitter를 사용하여 file 텍스트를 문서로 분할합니다.\n",
    "text_split = text_splitter.create_documents([body[0]])\n",
    "chunks = text_splitter.split_text(body[0])\n",
    "print(text_split)\n",
    "print(chunks)\n"
   ]
  },
  {
   "cell_type": "code",
   "execution_count": 35,
   "metadata": {},
   "outputs": [
    {
     "name": "stdout",
     "output_type": "stream",
     "text": [
      "['0010' '0013' '0016' '0017' '0030' '0041' '005' '0051' '0056' '01' '02'\n",
      " '05' '050에서' '055' '0808' '0811' '0844' '0862' '0864' '0874' '0884' '090'\n",
      " '0925' '095' '095까지' '095에서는' '0973' '0974' '0975' '0983' '0988' '0991'\n",
      " '11200개' '1280' '1280으로' '14' '1400개' '15' '18' '23' '30' '30으로' '4개'\n",
      " '50' '640' '7000명으로부터' 'age' 'ai' 'annotations' 'ap를' 'average' 'bbox'\n",
      " 'classindex' 'code' 'detection' 'epochs' 'epochs를' 'female' 'flow'\n",
      " 'format' 'h2' 'height' 'house' 'house집' 'htp' 'hub' 'image' 'imageheight'\n",
      " 'imagewidth' 'imgsz' 'intersection' 'iou' 'iou가' 'json' 'label' 'male'\n",
      " 'map' 'map50' 'map5095' 'map5095b' 'map50b' 'map55b' 'map95b' 'mean'\n",
      " 'meta' 'person' 'person사람의' 'precision' 'project' 'propobjcls'\n",
      " 'propobjimg' 'sex' 'shapedescription' 'test' 'thema' 'train' 'tree'\n",
      " 'tree나무' 'ultralytics' 'union' 'validation' 'w2' 'width' 'work' 'xc' 'yc'\n",
      " 'yolo' 'yolo11n' 'yolo11s' '가능성' '가능한' '가지' '각각의' '간격050' '간주하고' '감정과'\n",
      " '값이다' '개선' '개요' '개인의' '개체' '객체' '객체와' '검사' '검사란' '검사의' '검출' '검출하는지를'\n",
      " '검출한' '결과' '겹치면' '계산한' '계산한다' '관계' '교집합' '구름' '구축' '구하고' '굴뚝' '그네' '그려진'\n",
      " '그리게' '그림' '그림을' '그림의' '기둥' '기반' '기술적' '나무' '나무전체' '나뭇잎' '남자구두여자구두'\n",
      " '남자사람' '낮추어' '높은' '다람쥐' '다리' '다양한' '다운로드' '단추' '대략적으로' '대인' '데이터' '데이터가'\n",
      " '된다' '등을' '때의' '많이' '머리' '머리카락' '모델' '모델이' '무의식적' '문화적' '미술심리' '바운딩'\n",
      " '박스가' '박스를' '배경' '변화시키면서' '부족' '분류' '분류집' '불가능' '사람전체' '사용' '사용된다' '상대적'\n",
      " '상체' '상태를' '선정' '성격' '성능' '성능을' '성별의' '성인의' '셋은' '소개' '수관' '수집' '수집한'\n",
      " '스트레스를' '실제' '실제로' '실제와' '심리' '아닌' '아동' '얼굴' '얼마나' '엄격하게' '여자사람' '연기'\n",
      " '연령대713와' '연못' '열매' '영역의' '왜곡' '요구하므' '요소' '운동' '울타리' '원본' '위치' '위한'\n",
      " '유용하게' '으로' '의도적' '의료' '이상' '이상일' '이터를' '이해하는' '인식을' '임계값예' '임계값을' '있고'\n",
      " '잔디' '정답으로' '정밀도average' '정밀하게' '정보' '정서' '정제' '정책' '정확한' '주관적' '주머니'\n",
      " '주제' '증가시켜' '지붕' '지표' '진단을' '집벽' '집전체' '차이' '창문' '청소년의' '크기' '탐지' '탐지된'\n",
      " '태양' '투사적' '특히' '파악하거나' '평가' '평가하는' '평가할' '평균' '평균을' '평균이' '포함된' '포함하고'\n",
      " '표이다' '표준화' '프로젝트' '피검사자의' '하여' '학습' '학습속도를' '한계' '합집합' '항목별' '해석' '해석의'\n",
      " '해석이' '향상시킴' '활용']\n"
     ]
    }
   ],
   "source": [
    "from sklearn.feature_extraction.text import TfidfVectorizer\n",
    "\n",
    "# 1. 페이지별 텍스트 추출 및 저장\n",
    "\n",
    "\n",
    "# 2. 전체 문서 분석을 위한 텍스트 병합\n",
    "full_text = \" \".join(body)\n",
    "\n",
    "# 3. 키워드 추출 (페이지별 & 전체 문서)\n",
    "vectorizer = TfidfVectorizer(stop_words=\"english\")\n",
    "tfidf_matrix = vectorizer.fit_transform(body + [full_text])  # 전체 포함\n",
    "feature_names = vectorizer.get_feature_names_out()\n",
    "print(feature_names)"
   ]
  },
  {
   "cell_type": "code",
   "execution_count": 37,
   "metadata": {},
   "outputs": [
    {
     "name": "stdout",
     "output_type": "stream",
     "text": [
      "페이지별 키워드: [['심리', '하여', '파악하거나', '특히', '투사적', '청소년의', '정서', '이해하는', '유용하게', '스트레스를'], ['한계', '해석의', '피검사자의', '표준화', '차이', '주관적', '의도적', '왜곡', '선정', '부족'], ['그림', '해석', '모델', 'ai', '데이터', '학습', '활용', '탐지된', '크기', '위치'], ['데이터', '그림', '위한', 'ai', '아동', 'htp', '해석이', '포함하고', '포함된', '정책'], ['가지', '나무', '태양', '창문', '집전체', '집벽', '지붕', '주머니', '잔디', '울타리'], ['json', 'imagewidth', 'imageheight', '데이터', '정보', '원본', 'yc', 'xc', 'width', 'w2'], ['모델', '학습', '항목별', 'map', 'yolo11n', 'precision', 'mean', 'average', '평가', '구축'], ['iou', 'precision', '바운딩', '값이다', 'ap를', 'mean', 'average', '합집합', '표이다', '평균이'], ['imgsz', '향상시킴', 'thema', 'map5095b', 'male', 'female', 'epochs', '640', '50', '0991'], ['성능', '개선', 'project', 'flow', '02', '활용', '향상시킴', '해석이', '해석의', '해석']]\n",
      "전체 문서 키워드: ['데이터', '그림', '학습', 'project', 'flow', '가지', '02', 'htp', '모델', 'precision', 'ai', '아동', 'iou', 'imgsz', '심리']\n"
     ]
    }
   ],
   "source": [
    "\n",
    "# 4. 페이지별 키워드 저장\n",
    "page_keywords = []\n",
    "for i in range(len(body)):\n",
    "    keywords = sorted(zip(tfidf_matrix[i].toarray()[0], feature_names), reverse=True)[:10]\n",
    "    page_keywords.append([k[1] for k in keywords])  # 키워드 리스트만 저장\n",
    "\n",
    "# 5. 전체 문서 키워드 추출\n",
    "full_keywords = sorted(zip(tfidf_matrix[-1].toarray()[0], feature_names), reverse=True)[:15]\n",
    "full_keywords = [k[1] for k in full_keywords]\n",
    "\n",
    "print(\"페이지별 키워드:\", page_keywords)\n",
    "print(\"전체 문서 키워드:\", full_keywords)\n"
   ]
  },
  {
   "cell_type": "code",
   "execution_count": null,
   "metadata": {},
   "outputs": [
    {
     "name": "stdout",
     "output_type": "stream",
     "text": [
      "페이지 1 - 이미지 0과 가장 가까운 텍스트:\n",
      "Team D.P.\n",
      "Wanted PotenUp\n",
      "\n",
      "페이지 2 - 이미지 0과 가장 가까운 텍스트:\n",
      "오늘의 발표 내용은?\n",
      "\n",
      "페이지 3 - 이미지 0과 가장 가까운 텍스트:\n",
      "HTP 검사란?\n",
      "\n",
      "페이지 3 - 이미지 1과 가장 가까운 텍스트:\n",
      "01. 프로젝트 개요\n",
      "\n",
      "페이지 4 - 이미지 0과 가장 가까운 텍스트:\n",
      "HTP 검사의 한계\n",
      "\n",
      "페이지 4 - 이미지 1과 가장 가까운 텍스트:\n",
      "01. 프로젝트 개요\n",
      "\n",
      "페이지 5 - 이미지 0과 가장 가까운 텍스트:\n",
      "02. Project Flow\n",
      "\n",
      "페이지 6 - 이미지 0과 가장 가까운 텍스트:\n",
      "학습 데이터 수집 (Image)\n",
      "\n",
      "페이지 6 - 이미지 1과 가장 가까운 텍스트:\n",
      "02. Project Flow\n",
      "\n",
      "페이지 7 - 이미지 0과 가장 가까운 텍스트:\n",
      "02. Project Flow\n",
      "\n",
      "페이지 8 - 이미지 0과 가장 가까운 텍스트:\n",
      "02. Project Flow\n",
      "\n",
      "페이지 9 - 이미지 0과 가장 가까운 텍스트:\n",
      "02. Project Flow\n",
      "\n",
      "페이지 10 - 이미지 0과 가장 가까운 텍스트:\n",
      "02. Project Flow\n",
      "\n",
      "페이지 11 - 이미지 0과 가장 가까운 텍스트:\n",
      "02. Project Flow\n",
      "\n",
      "페이지 12 - 이미지 0과 가장 가까운 텍스트:\n",
      "성능 개선\n",
      "\n",
      "페이지 12 - 이미지 1과 가장 가까운 텍스트:\n",
      "성능 개선\n",
      "\n",
      "페이지 12 - 이미지 2과 가장 가까운 텍스트:\n",
      "성능 개선\n",
      "\n",
      "페이지 12 - 이미지 3과 가장 가까운 텍스트:\n",
      "02. Project Flow\n",
      "\n",
      "페이지 13 - 이미지 0과 가장 가까운 텍스트:\n",
      "특징 추출 및 해석\n",
      "\n",
      "페이지 13 - 이미지 1과 가장 가까운 텍스트:\n",
      "02. Project Flow\n",
      "\n",
      "페이지 14 - 이미지 0과 가장 가까운 텍스트:\n",
      "02. Project Flow\n",
      "\n",
      "페이지 15 - 이미지 0과 가장 가까운 텍스트:\n",
      "객관적이고 일관된 분석 가능\n",
      "\n",
      "페이지 15 - 이미지 1과 가장 가까운 텍스트:\n",
      "03. 서비스 구현\n",
      "\n",
      "페이지 16 - 이미지 0과 가장 가까운 텍스트:\n",
      "YOLO 모델 \n",
      "HTP 검사 결과를 \n",
      "채점 기준별 점수화\n",
      "\n",
      "페이지 16 - 이미지 1과 가장 가까운 텍스트:\n",
      "03. 서비스 구현\n",
      "\n",
      "페이지 17 - 이미지 0과 가장 가까운 텍스트:\n",
      "이미지 업로드 및  해석 화면\n",
      "\n",
      "페이지 17 - 이미지 1과 가장 가까운 텍스트:\n",
      "[페이지 진입 시 초기 화면]\n",
      "\n",
      "페이지 17 - 이미지 2과 가장 가까운 텍스트:\n",
      "03. 서비스 구현\n",
      "\n",
      "페이지 18 - 이미지 0과 가장 가까운 텍스트:\n",
      "이미지 업로드 및  해석 화면\n",
      "\n",
      "페이지 18 - 이미지 1과 가장 가까운 텍스트:\n",
      "[탐지 모드 설정]\n",
      "\n",
      "페이지 18 - 이미지 2과 가장 가까운 텍스트:\n",
      "03. 서비스 구현\n",
      "\n",
      "페이지 19 - 이미지 0과 가장 가까운 텍스트:\n",
      "이미지 업로드 및  해석 화면\n",
      "\n",
      "페이지 19 - 이미지 1과 가장 가까운 텍스트:\n",
      "03. 서비스 구현\n",
      "\n",
      "페이지 20 - 이미지 0과 가장 가까운 텍스트:\n",
      "이미지 업로드 및  해석 화면\n",
      "\n",
      "페이지 20 - 이미지 1과 가장 가까운 텍스트:\n",
      "03. 서비스 구현\n",
      "\n",
      "페이지 21 - 이미지 0과 가장 가까운 텍스트:\n",
      "이미지 업로드 및  해석 화면\n",
      "\n",
      "페이지 21 - 이미지 1과 가장 가까운 텍스트:\n",
      "03. 서비스 구현\n",
      "\n",
      "페이지 22 - 이미지 0과 가장 가까운 텍스트:\n",
      "Q & A\n",
      "\n",
      "페이지 23 - 이미지 0과 가장 가까운 텍스트:\n",
      "4월에 다시 만나요\n",
      "\n"
     ]
    }
   ],
   "source": []
  },
  {
   "cell_type": "code",
   "execution_count": null,
   "metadata": {},
   "outputs": [],
   "source": [
    "\n",
    "def convert_to_base64(pil_image):\n",
    "    '''pil이미지를 받아서 base64문자열로 바꾸어주는 함수'''\n",
    "    buffer = BytesIO()\n",
    "    pil_image.save(buffer, format='jpeg')\n",
    "    img_str = base64.b64encode(buffer.getvalue()).decode('utf-8')\n",
    "    return img_str\n",
    "\n",
    "def plt_img_base64(img_base64):\n",
    "    image = f'<img sec=\"data:image/jpeg;base64,{img_base64}\">'\n",
    "    display(HTML(image))\n",
    "\n",
    "def make_prompt(data):\n",
    "    text = data['text']\n",
    "    image = data['image']\n",
    "\n",
    "    image_data = {\n",
    "        'type' : 'image_url',\n",
    "        'image_url' : f\"data:image/jpeg;base64,{image}\"\n",
    "    }\n",
    "\n",
    "    text_data = {'type' : 'text', 'text':text}\n",
    "\n",
    "    content = []\n",
    "\n",
    "    content.append(image_data)\n",
    "    content.append(text_data)\n",
    "    return [HumanMessage(content=content)]  # 보내줄때 현업에서 이따위로 보내주는게 국룰이라 함"
   ]
  }
 ],
 "metadata": {
  "kernelspec": {
   "display_name": "lang",
   "language": "python",
   "name": "python3"
  },
  "language_info": {
   "codemirror_mode": {
    "name": "ipython",
    "version": 3
   },
   "file_extension": ".py",
   "mimetype": "text/x-python",
   "name": "python",
   "nbconvert_exporter": "python",
   "pygments_lexer": "ipython3",
   "version": "3.12.8"
  }
 },
 "nbformat": 4,
 "nbformat_minor": 2
}
